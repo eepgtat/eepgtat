{
  "nbformat": 4,
  "nbformat_minor": 0,
  "metadata": {
    "colab": {
      "provenance": [],
      "gpuType": "T4",
      "authorship_tag": "ABX9TyMzwo5EoHTWV2xC7SJ93bo0",
      "include_colab_link": true
    },
    "kernelspec": {
      "name": "python3",
      "display_name": "Python 3"
    },
    "language_info": {
      "name": "python"
    },
    "accelerator": "GPU"
  },
  "cells": [
    {
      "cell_type": "markdown",
      "metadata": {
        "id": "view-in-github",
        "colab_type": "text"
      },
      "source": [
        "<a href=\"https://colab.research.google.com/github/eepgtat/eepgtat/blob/main/Thomas_task1.ipynb\" target=\"_parent\"><img src=\"https://colab.research.google.com/assets/colab-badge.svg\" alt=\"Open In Colab\"/></a>"
      ]
    },
    {
      "cell_type": "code",
      "execution_count": null,
      "metadata": {
        "id": "ciDZekJQtME8"
      },
      "outputs": [],
      "source": [
        "from google.colab import drive\n",
        "drive.mount('/content/drive')\n",
        "\n",
        "#CHECK IF YOUR FILE EXIST IN THE LOCATION:--\n",
        "\n",
        "import os\n",
        "os.chdir(\"/content/drive/\")\n",
        "!ls\n",
        "\n",
        "#OR\n",
        "\n",
        "import os\n",
        "os.chdir(\"/content/drive/My Drive\")\n",
        "!ls\n",
        "\n",
        "!pip  install -r  HRNet-Semantic-Segmentation/requirements.txt\n",
        "\n",
        "\n"
      ]
    },
    {
      "cell_type": "code",
      "source": [
        "!python HRNet-Semantic-Segmentation/tools/test.py --cfg HRNet-Semantic-Segmentation/experiments/cityscapes/seg_hrnet_w48_train_512x1024_sgd_lr1e-2_wd5e-4_bs_12_epoch484A.yaml DATASET.TEST_SET data/cityscapes/test.lst TEST.MODEL_FILE  data/cityscapes/hrnet_cs_8090_torch11.pth  TEST.SCALE_LIST"
      ],
      "metadata": {
        "colab": {
          "base_uri": "https://localhost:8080/"
        },
        "id": "ubheTEGtufs1",
        "outputId": "ba31e917-fc73-4474-d6bf-a8670f7714ee"
      },
      "execution_count": null,
      "outputs": [
        {
          "output_type": "stream",
          "name": "stdout",
          "text": [
            "Traceback (most recent call last):\n",
            "  File \"/content/drive/MyDrive/HRNet-Semantic-Segmentation/tools/test.py\", line 143, in <module>\n",
            "    main()\n",
            "  File \"/content/drive/MyDrive/HRNet-Semantic-Segmentation/tools/test.py\", line 51, in main\n",
            "    args = parse_args()\n",
            "  File \"/content/drive/MyDrive/HRNet-Semantic-Segmentation/tools/test.py\", line 46, in parse_args\n",
            "    update_config(config, args)\n",
            "  File \"/content/drive/MyDrive/HRNet-Semantic-Segmentation/tools/../lib/config/default.py\", line 135, in update_config\n",
            "    cfg.merge_from_list(args.opts)\n",
            "  File \"/usr/local/lib/python3.10/dist-packages/yacs/config.py\", line 223, in merge_from_list\n",
            "    _assert_with_logging(\n",
            "  File \"/usr/local/lib/python3.10/dist-packages/yacs/config.py\", line 545, in _assert_with_logging\n",
            "    assert cond, msg\n",
            "AssertionError: Override list has odd length: ['DATASET.TEST_SET', 'data/cityscapes/test.lst', 'TEST.MODEL_FILE', 'data/cityscapes/hrnet_cs_8090_torch11.pth', 'TEST.SCALE_LIST']; it must be a list of pairs\n"
          ]
        }
      ]
    }
  ]
}